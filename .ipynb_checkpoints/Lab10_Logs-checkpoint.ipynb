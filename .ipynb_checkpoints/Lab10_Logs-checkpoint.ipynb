{
 "cells": [
  {
   "cell_type": "code",
   "execution_count": 45,
   "metadata": {},
   "outputs": [],
   "source": [
    "%matplotlib inline\n",
    "import numpy as np\n",
    "import matplotlib.pyplot as plt\n",
    "import datetime"
   ]
  },
  {
   "cell_type": "markdown",
   "metadata": {},
   "source": [
    "1) Log file is loaded"
   ]
  },
  {
   "cell_type": "code",
   "execution_count": 46,
   "metadata": {},
   "outputs": [
    {
     "name": "stdout",
     "output_type": "stream",
     "text": [
      "156.15.13.173 [01/Jan/2018:11:13:49 +0100] \"GET AddProduct.html HTTP/1.0\" 200 2356\n",
      "176.247.135.49 [01/Jan/2018:11:18:07 +0100] \"GET Shop.html HTTP/1.0\" 200 7466\n",
      "176.247.135.49 [01/Jan/2018:11:19:05 +0100] \"GET AddProduct.html HTTP/1.0\" 200 2356\n"
     ]
    }
   ],
   "source": [
    "file = open(\"log.txt\", \"r\") \n",
    "lines = file.readlines()\n",
    "for l in range(3): print(lines[l][:-1])"
   ]
  },
  {
   "cell_type": "markdown",
   "metadata": {},
   "source": [
    "2) Cass \"Request\" parses and keeps data of a single requests. Complete the TODO, where a given \"line\" (string) should be parsed in order to dervie the ip of the host making the request, time of the request (in seconds), and target page (name)."
   ]
  },
  {
   "cell_type": "code",
   "execution_count": 47,
   "metadata": {},
   "outputs": [],
   "source": [
    "class Request:\n",
    "    def __init__(self, line):\n",
    "        # TODO DO PARSING HERE\n",
    "        lista = line.split()\n",
    "        self.ip = lista[0]\n",
    "        date = lista[1]\n",
    "        self.time = int(date[-2:]) + int(date[-5:-3]) * 60 + int(date[-8:-6]) * 60 * 60\n",
    "        self.page = lista[4]\n",
    "        # convert hours + minutes + seconds -> total number of seconds\n",
    "        \n",
    "    def __repr__(self):\n",
    "        return self.ip + \"     \" +  str(datetime.timedelta(seconds=self.time)) + \" -> \" + self.page\n"
   ]
  },
  {
   "cell_type": "markdown",
   "metadata": {},
   "source": [
    "3) Each line of log.txt is parsed and the Request objects are added to the list"
   ]
  },
  {
   "cell_type": "code",
   "execution_count": 48,
   "metadata": {},
   "outputs": [
    {
     "name": "stdout",
     "output_type": "stream",
     "text": [
      "156.15.13.173     11:13:49 -> AddProduct.html\n",
      "176.247.135.49     11:18:07 -> Shop.html\n",
      "176.247.135.49     11:19:05 -> AddProduct.html\n",
      "176.247.135.49     11:29:05 -> Summary.html\n",
      "69.84.30.199     11:43:59 -> Shop.html\n",
      "69.84.30.199     11:45:16 -> AddProduct.html\n",
      "57.116.45.120     11:46:45 -> AddProduct.html\n",
      "69.84.30.199     11:50:36 -> Summary.html\n",
      "69.84.30.199     11:52:38 -> Payment.html\n",
      "26.19.183.202     11:53:11 -> AddProduct.html\n"
     ]
    }
   ],
   "source": [
    "reqs = [Request(line) for line in lines]\n",
    "for l in range(10): print(reqs[l]) "
   ]
  },
  {
   "cell_type": "markdown",
   "metadata": {},
   "source": [
    "# Exercise"
   ]
  },
  {
   "cell_type": "markdown",
   "metadata": {},
   "source": [
    "Your task is to analyze the log file. You should indentify the users and sessions. Then, compute the following: <br>\n",
    "3.1) the number of sessions (should be 1000 :) ), <br>\n",
    "3.2) the number of users, <br>\n",
    "3.3) the average number of sessions per one user <br>\n",
    "3.4) use the distribution plot to visualize the sessions' lengths (minutes);  <br>\n",
    "3.5) use the distribution plot to visualize the sessions' lengths (the number of requests) <br>\n",
    "3.6) use the distribution plot to visualize sessions' starting times (hours). <br>\n",
    "3.7) which web page is the most common entry point?; for each page plot the number of times it has been an entry page,  <br>\n",
    "3.8) which web page is the most common departure point?; for each page plot the number of times the user stopped a session while being on this page, <br>\n",
    "3.9) for each page plot the average time the user stayed on this page <br>\n",
    "3.10) print the fist 10 sessions (paths). <br>\n",
    "\n",
    "You may find the following classes helpful and data."
   ]
  },
  {
   "cell_type": "code",
   "execution_count": 49,
   "metadata": {},
   "outputs": [],
   "source": [
    "class Session:\n",
    "    def __init__(self, request):\n",
    "        self.isClosed = False\n",
    "        self.startTime = request.time\n",
    "        self.stopTime = request.time\n",
    "        self.requests = []\n",
    "        self.requests.append(request)\n",
    "        \n",
    "    def __repr__(self):\n",
    "        print(\"SESSION\")\n",
    "        print(self.startTime)\n",
    "        print(self.stopTime)\n",
    "        STR = \"\"\n",
    "        for r in self.requests:\n",
    "            print(r)\n",
    "            STR += (\"  \" + r.page + \"    \" + str(datetime.timedelta(seconds=r.time)) + \"\\n\")\n",
    "        return STR\n",
    "\n",
    "    def pushRequest(self, request):\n",
    "        self.requests.append(request)\n",
    "        self.stopTime = request.time\n",
    "\n",
    "    def closeSession(self):\n",
    "        self.isClosed = True\n",
    "\n",
    "class Computer: # zmieniam rzeczy, jc to pacz original file\n",
    "    def __init__(self, ip, session):\n",
    "        self.ip = ip # [] # one user uses  only one computer (IP) to na chuj mi tablica ip????????\n",
    "        self.sessions = []\n",
    "        self.sessions.append(session)\n",
    "\n",
    "    def __repr__(self):\n",
    "        return self.ip\n",
    "\n",
    "    def pushSession(self, session):\n",
    "        self.sessions.append(session)\n",
    "\n",
    "PAGES = [\"Shop.html\", \"AddProduct.html\", \"Summary.html\", \"Payment.html\", \"About.html\", \"Contact.html\"]\n",
    "\n",
    "LINKS = [[1, 4], # tutaj sa polaczenia stron jak ktoras ma pusta liste to nastepny request z \n",
    "         [2,4], # innej strony to nowa sesja, a jak mozna isc dalej to ciag dalszy sesji\n",
    "         [3],\n",
    "         [],\n",
    "         [1,5],\n",
    "         []]\n",
    "\n",
    "def isInTheSameSession(last, new): # przyjmuje requesty\n",
    "    if last.page == new.page:\n",
    "        return True\n",
    "    elif len(LINKS[PAGES.index(last.page)]) == 0:\n",
    "        return False\n",
    "    elif LINKS.index(LINKS[PAGES.index(new.page)]) in LINKS[PAGES.index(last.page)]:\n",
    "        return True\n",
    "\n",
    "    return False\n",
    "\n",
    "users = []\n",
    "new_user = True # jesli taki user nie wystepuje w users i trzeba dodac\n",
    "\n",
    "for req in reqs:\n",
    "    sessionToAdd = None\n",
    "    new_user = True\n",
    "    for user in users:\n",
    "        if req.ip != user.ip:\n",
    "            continue\n",
    "        \n",
    "        new_user = False\n",
    "        for session in user.sessions: # mysle ze rownie dobrze mozemy zamiast przechodzic po wszystkich sesja to od razu brac ostatnia\n",
    "            if session.isClosed:\n",
    "                continue\n",
    "            elif isInTheSameSession(session.requests[-1], req): # tu powinno byc juz ostatnia sesja bo reszta zamknieta\n",
    "                session.pushRequest(req)\n",
    "            else: \n",
    "                session.closeSession()\n",
    "                user.pushSession(Session(request=req))\n",
    "\n",
    "        break\n",
    "\n",
    "    if new_user:\n",
    "        users.append(Computer(ip=req.ip, session=Session(req)))\n",
    "        \n",
    "        \n",
    "#plot distribution\n",
    "#count, bins, ignored = plt.hist(data, 50, alpha=0.5, normed=True)\n",
    "#plt.plot()\n",
    "\n",
    "#x_axis = np.arange(len(pages))\n",
    "#plt.bar(x_axis, data, align='center', alpha=0.5)\n",
    "#plt.xticks(y_pos, pages, rotation=90)"
   ]
  }
 ],
 "metadata": {
  "kernelspec": {
   "display_name": "Python 3",
   "language": "python",
   "name": "python3"
  },
  "language_info": {
   "codemirror_mode": {
    "name": "ipython",
    "version": 3
   },
   "file_extension": ".py",
   "mimetype": "text/x-python",
   "name": "python",
   "nbconvert_exporter": "python",
   "pygments_lexer": "ipython3",
   "version": "3.7.5"
  }
 },
 "nbformat": 4,
 "nbformat_minor": 2
}
